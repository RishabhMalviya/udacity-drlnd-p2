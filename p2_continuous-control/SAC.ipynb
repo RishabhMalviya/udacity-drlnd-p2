{
 "cells": [
  {
   "cell_type": "markdown",
   "id": "a7f49bae",
   "metadata": {},
   "source": [
    "# Training Code"
   ]
  },
  {
   "cell_type": "markdown",
   "id": "22583b33",
   "metadata": {},
   "source": [
    "This is just a notebook-ized version of `main.py`"
   ]
  },
  {
   "cell_type": "markdown",
   "id": "94be872f",
   "metadata": {},
   "source": [
    "## Import Packages"
   ]
  },
  {
   "cell_type": "code",
   "execution_count": 1,
   "id": "4ae61986",
   "metadata": {},
   "outputs": [],
   "source": [
    "from unityagents import UnityEnvironment\n",
    "\n",
    "from agent import Agent\n",
    "from utils import train_agent, plot_scores, watch_agent"
   ]
  },
  {
   "cell_type": "markdown",
   "id": "c74d683c",
   "metadata": {},
   "source": [
    "## Train the Agent"
   ]
  },
  {
   "cell_type": "code",
   "execution_count": 2,
   "id": "6e2f6e1f",
   "metadata": {},
   "outputs": [
    {
     "name": "stderr",
     "output_type": "stream",
     "text": [
      "INFO:unityagents:\n",
      "'Academy' started successfully!\n",
      "Unity Academy name: Academy\n",
      "        Number of Brains: 1\n",
      "        Number of External Brains : 1\n",
      "        Lesson number : 0\n",
      "        Reset Parameters :\n",
      "\t\tgoal_speed -> 1.0\n",
      "\t\tgoal_size -> 5.0\n",
      "Unity brain name: ReacherBrain\n",
      "        Number of Visual Observations (per agent): 0\n",
      "        Vector Observation space type: continuous\n",
      "        Vector Observation space size (per agent): 33\n",
      "        Number of stacked Vector Observation: 1\n",
      "        Vector Action space type: continuous\n",
      "        Vector Action space size (per agent): 4\n",
      "        Vector Action descriptions: , , , \n"
     ]
    },
    {
     "name": "stdout",
     "output_type": "stream",
     "text": [
      "Episode 100\tAverage Score (over past 100 episodes): 0.19\n",
      "Episode 110\tAverage Score (over past 100 episodes): 0.10\n",
      "Episode 120\tAverage Score (over past 100 episodes): 0.09\n",
      "Episode 130\tAverage Score (over past 100 episodes): 0.07\n",
      "Episode 140\tAverage Score (over past 100 episodes): 0.07\n",
      "Episode 150\tAverage Score (over past 100 episodes): 0.05\n",
      "Episode 160\tAverage Score (over past 100 episodes): 0.05\n",
      "Episode 170\tAverage Score (over past 100 episodes): 0.04\n",
      "Episode 180\tAverage Score (over past 100 episodes): 0.04\n",
      "Episode 190\tAverage Score (over past 100 episodes): 0.04\n",
      "Episode 200\tAverage Score (over past 100 episodes): 0.03\n",
      "Episode 210\tAverage Score (over past 100 episodes): 0.03\n",
      "Episode 220\tAverage Score (over past 100 episodes): 0.03\n",
      "Episode 230\tAverage Score (over past 100 episodes): 0.04\n",
      "Episode 240\tAverage Score (over past 100 episodes): 0.04\n",
      "Episode 250\tAverage Score (over past 100 episodes): 0.04\n",
      "Episode 260\tAverage Score (over past 100 episodes): 0.04\n",
      "Episode 270\tAverage Score (over past 100 episodes): 0.04\n",
      "Episode 280\tAverage Score (over past 100 episodes): 0.04\n",
      "Episode 290\tAverage Score (over past 100 episodes): 0.04\n",
      "Episode 300\tAverage Score (over past 100 episodes): 0.04\n",
      "Episode 310\tAverage Score (over past 100 episodes): 0.04\n",
      "Episode 320\tAverage Score (over past 100 episodes): 0.05\n",
      "Episode 330\tAverage Score (over past 100 episodes): 0.05\n",
      "Episode 340\tAverage Score (over past 100 episodes): 0.05\n",
      "Episode 350\tAverage Score (over past 100 episodes): 0.05\n",
      "Episode 360\tAverage Score (over past 100 episodes): 0.05\n",
      "Episode 370\tAverage Score (over past 100 episodes): 0.05\n",
      "Episode 380\tAverage Score (over past 100 episodes): 0.04\n",
      "Episode 390\tAverage Score (over past 100 episodes): 0.04\n",
      "Episode 400\tAverage Score (over past 100 episodes): 0.04\n",
      "Episode 410\tAverage Score (over past 100 episodes): 0.04\n",
      "Episode 420\tAverage Score (over past 100 episodes): 0.04\n",
      "Episode 430\tAverage Score (over past 100 episodes): 0.04\n",
      "Episode 440\tAverage Score (over past 100 episodes): 0.04\n",
      "Episode 450\tAverage Score (over past 100 episodes): 0.04\n",
      "Episode 460\tAverage Score (over past 100 episodes): 0.03\n",
      "Episode 470\tAverage Score (over past 100 episodes): 0.03\n",
      "Episode 480\tAverage Score (over past 100 episodes): 0.04\n",
      "Episode 490\tAverage Score (over past 100 episodes): 0.04\n",
      "Episode 500\tAverage Score (over past 100 episodes): 0.04\n"
     ]
    }
   ],
   "source": [
    "scores, solved = train_agent(\n",
    "    env    = UnityEnvironment(file_name='./Reacher_Linux/Reacher.x86_64', no_graphics=True),\n",
    "    agent  = Agent(state_size=33, action_size=4),\n",
    "    n_episodes=500,\n",
    "    max_t=1000\n",
    ")"
   ]
  },
  {
   "cell_type": "markdown",
   "id": "687a5984",
   "metadata": {},
   "source": [
    "## Plot Scores"
   ]
  },
  {
   "cell_type": "code",
   "execution_count": null,
   "id": "49c685a6",
   "metadata": {},
   "outputs": [],
   "source": [
    "plot_scores(scores)  # Saves plot to 'scores.png'"
   ]
  },
  {
   "cell_type": "markdown",
   "id": "5b4e72e4",
   "metadata": {},
   "source": [
    "## Watch Trained Agent"
   ]
  },
  {
   "cell_type": "code",
   "execution_count": null,
   "id": "6f9812db",
   "metadata": {},
   "outputs": [],
   "source": [
    "watch_agent(\n",
    "    env    = UnityEnvironment(file_name='./Reacher_Linux/Reacher.x86_64'),\n",
    "    agent  = Agent(state_size=37, action_size=4, seed=0)\n",
    ")"
   ]
  },
  {
   "cell_type": "code",
   "execution_count": null,
   "id": "ed2e4109",
   "metadata": {},
   "outputs": [],
   "source": []
  },
  {
   "cell_type": "code",
   "execution_count": null,
   "id": "d8797555",
   "metadata": {},
   "outputs": [],
   "source": []
  },
  {
   "cell_type": "code",
   "execution_count": null,
   "id": "2abb2d77",
   "metadata": {},
   "outputs": [],
   "source": []
  }
 ],
 "metadata": {
  "kernelspec": {
   "display_name": "drlnd",
   "language": "python",
   "name": "drlnd"
  },
  "language_info": {
   "codemirror_mode": {
    "name": "ipython",
    "version": 3
   },
   "file_extension": ".py",
   "mimetype": "text/x-python",
   "name": "python",
   "nbconvert_exporter": "python",
   "pygments_lexer": "ipython3",
   "version": "3.6.13"
  }
 },
 "nbformat": 4,
 "nbformat_minor": 5
}
