{
 "cells": [
  {
   "cell_type": "markdown",
   "id": "a11869a6",
   "metadata": {},
   "source": [
    "# Training Code"
   ]
  },
  {
   "cell_type": "markdown",
   "id": "ddb3f8a6",
   "metadata": {},
   "source": [
    "This is just a notebook-ized version of `main.py`"
   ]
  },
  {
   "cell_type": "markdown",
   "id": "7bb61566",
   "metadata": {},
   "source": [
    "## Import Packages"
   ]
  },
  {
   "cell_type": "code",
   "execution_count": 1,
   "id": "aa11f852",
   "metadata": {},
   "outputs": [],
   "source": [
    "from unityagents import UnityEnvironment\n",
    "\n",
    "from agent import Agent\n",
    "from utils import train_agent, plot_scores, watch_agent"
   ]
  },
  {
   "cell_type": "markdown",
   "id": "e7ae65eb",
   "metadata": {},
   "source": [
    "## Train the Agent"
   ]
  },
  {
   "cell_type": "code",
   "execution_count": null,
   "id": "6a842f47",
   "metadata": {
    "scrolled": false
   },
   "outputs": [
    {
     "name": "stderr",
     "output_type": "stream",
     "text": [
      "INFO:unityagents:\n",
      "'Academy' started successfully!\n",
      "Unity Academy name: Academy\n",
      "        Number of Brains: 1\n",
      "        Number of External Brains : 1\n",
      "        Lesson number : 0\n",
      "        Reset Parameters :\n",
      "\t\tgoal_speed -> 1.0\n",
      "\t\tgoal_size -> 5.0\n",
      "Unity brain name: ReacherBrain\n",
      "        Number of Visual Observations (per agent): 0\n",
      "        Vector Observation space type: continuous\n",
      "        Vector Observation space size (per agent): 33\n",
      "        Number of stacked Vector Observation: 1\n",
      "        Vector Action space type: continuous\n",
      "        Vector Action space size (per agent): 4\n",
      "        Vector Action descriptions: , , , \n"
     ]
    },
    {
     "name": "stdout",
     "output_type": "stream",
     "text": [
      "Episode 40\t Score: 1.20"
     ]
    }
   ],
   "source": [
    "scores, solved = train_agent(\n",
    "    env    = UnityEnvironment(file_name='./Reacher_Linux/Reacher.x86_64', no_graphics=True),\n",
    "    agent  = Agent(state_size=33, action_size=4, seed=0),\n",
    "    n_episodes=200,\n",
    "    max_t=1000\n",
    ")"
   ]
  },
  {
   "cell_type": "markdown",
   "id": "687a5984",
   "metadata": {},
   "source": [
    "## Plot Scores"
   ]
  },
  {
   "cell_type": "code",
   "execution_count": null,
   "id": "49c685a6",
   "metadata": {},
   "outputs": [],
   "source": [
    "plot_scores(scores)  # Saves plot to 'scores.png'"
   ]
  },
  {
   "cell_type": "markdown",
   "id": "5b4e72e4",
   "metadata": {},
   "source": [
    "## Watch Trained Agent"
   ]
  },
  {
   "cell_type": "code",
   "execution_count": null,
   "id": "6f9812db",
   "metadata": {},
   "outputs": [],
   "source": [
    "watch_agent(\n",
    "    env    = UnityEnvironment(file_name='./Reacher_Linux/Reacher.x86_64'),\n",
    "    agent  = Agent(state_size=37, action_size=4, seed=0)\n",
    ")"
   ]
  },
  {
   "cell_type": "code",
   "execution_count": null,
   "id": "ed2e4109",
   "metadata": {},
   "outputs": [],
   "source": []
  },
  {
   "cell_type": "code",
   "execution_count": null,
   "id": "d8797555",
   "metadata": {},
   "outputs": [],
   "source": []
  },
  {
   "cell_type": "code",
   "execution_count": null,
   "id": "2abb2d77",
   "metadata": {},
   "outputs": [],
   "source": []
  }
 ],
 "metadata": {
  "kernelspec": {
   "display_name": "drlnd",
   "language": "python",
   "name": "drlnd"
  },
  "language_info": {
   "codemirror_mode": {
    "name": "ipython",
    "version": 3
   },
   "file_extension": ".py",
   "mimetype": "text/x-python",
   "name": "python",
   "nbconvert_exporter": "python",
   "pygments_lexer": "ipython3",
   "version": "3.6.13"
  }
 },
 "nbformat": 4,
 "nbformat_minor": 5
}
