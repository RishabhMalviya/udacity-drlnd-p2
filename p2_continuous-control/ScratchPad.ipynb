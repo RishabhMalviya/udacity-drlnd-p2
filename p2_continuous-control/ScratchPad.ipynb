{
 "cells": [
  {
   "cell_type": "code",
   "execution_count": 27,
   "id": "d8ee393d",
   "metadata": {},
   "outputs": [],
   "source": [
    "import numpy as np\n",
    "\n",
    "import torch\n",
    "import torch.nn as nn\n",
    "import torch.nn.functional as F"
   ]
  },
  {
   "cell_type": "markdown",
   "id": "4824ae16",
   "metadata": {},
   "source": [
    "# Creating a stds torch array"
   ]
  },
  {
   "cell_type": "code",
   "execution_count": 14,
   "id": "e33a4a07",
   "metadata": {},
   "outputs": [],
   "source": [
    "class Critic(nn.Module):\n",
    "    def __init__(self, s_size=33, a_size=4, h_size=None):\n",
    "        super(Critic, self).__init__()\n",
    "\n",
    "        if not h_size:\n",
    "            h_size = 128\n",
    "\n",
    "        self.fc1 = nn.Linear(s_size, h_size)\n",
    "        self.fc2 = nn.Linear(h_size, 1)\n",
    "\n",
    "    def forward(self, x):\n",
    "        x = F.relu(self.fc1(x))\n",
    "        x = self.fc2(x)\n",
    "\n",
    "        return x\n",
    "\n",
    "critic_nn = Critic()"
   ]
  },
  {
   "cell_type": "code",
   "execution_count": 15,
   "id": "96357734",
   "metadata": {},
   "outputs": [
    {
     "name": "stdout",
     "output_type": "stream",
     "text": [
      "[tensor([[[-0.3292]]]), tensor([[[-0.1346]]]), tensor(1.00000e-02 *\n",
      "       [[[-7.8843]]]), tensor(1.00000e-02 *\n",
      "       [[[ 6.5297]]]), tensor(1.00000e-02 *\n",
      "       [[[-6.8628]]]), tensor(1.00000e-02 *\n",
      "       [[[ 4.8209]]]), tensor(1.00000e-02 *\n",
      "       [[[-6.8544]]]), tensor([[[-0.2103]]]), tensor(1.00000e-02 *\n",
      "       [[[-6.1813]]]), tensor([[[-0.2625]]])]\n"
     ]
    }
   ],
   "source": [
    "state_value_estimates = []\n",
    "\n",
    "for i in range(10):\n",
    "    state = np.random.randn(1,33)\n",
    "    state = torch.from_numpy(state).float().unsqueeze(0)\n",
    "    state_value_estimates.append(critic_nn.forward(state))\n",
    "    \n",
    "print(state_value_estimates)"
   ]
  },
  {
   "cell_type": "code",
   "execution_count": 19,
   "id": "ccbc874d",
   "metadata": {},
   "outputs": [
    {
     "name": "stdout",
     "output_type": "stream",
     "text": [
      "[ 0.9553288   0.18883826  1.45361509  0.62463476  0.17646961  0.82248658\n",
      "  1.03884972 -0.90838555  0.26847422 -0.64523629]\n"
     ]
    }
   ],
   "source": [
    "returns = np.random.randn(10)\n",
    "print(returns)"
   ]
  },
  {
   "cell_type": "code",
   "execution_count": 20,
   "id": "a48fc23f",
   "metadata": {},
   "outputs": [
    {
     "name": "stdout",
     "output_type": "stream",
     "text": [
      "True\n",
      "<AddBackward1 object at 0x75b0bc71ca90>\n",
      "True\n",
      "<AddBackward1 object at 0x75b0bc71ca90>\n",
      "True\n",
      "<AddBackward1 object at 0x75b0bc71ca20>\n",
      "True\n",
      "<AddBackward1 object at 0x75b0bc71ca20>\n",
      "True\n",
      "<AddBackward1 object at 0x75b0bc71ca20>\n",
      "True\n",
      "<AddBackward1 object at 0x75b0bc71ca20>\n",
      "True\n",
      "<AddBackward1 object at 0x75b0bc71ca20>\n",
      "True\n",
      "<AddBackward1 object at 0x75b0bc71ca20>\n",
      "True\n",
      "<AddBackward1 object at 0x75b0bc71ca20>\n",
      "True\n",
      "<AddBackward1 object at 0x75b0bc71ca20>\n"
     ]
    }
   ],
   "source": [
    "for estimate in state_value_estimates:\n",
    "    print(estimate.requires_grad)\n",
    "    print(estimate.grad_fn)"
   ]
  },
  {
   "cell_type": "code",
   "execution_count": 22,
   "id": "0e1c7985",
   "metadata": {},
   "outputs": [
    {
     "name": "stdout",
     "output_type": "stream",
     "text": [
      "[ 1.28449614  0.32341574  1.53245828  0.55933819  0.24509719  0.77427783\n",
      "  1.10739401 -0.69808498  0.33028711 -0.38272542]\n"
     ]
    }
   ],
   "source": [
    "returns_with_baseline = returns - np.array([v.clone().squeeze().item() for v in state_value_estimates])\n",
    "print(returns_with_baseline)"
   ]
  },
  {
   "cell_type": "code",
   "execution_count": 23,
   "id": "533522fb",
   "metadata": {},
   "outputs": [
    {
     "name": "stdout",
     "output_type": "stream",
     "text": [
      "True\n",
      "<AddBackward1 object at 0x75b0bc71c748>\n",
      "True\n",
      "<AddBackward1 object at 0x75b0bc71c748>\n",
      "True\n",
      "<AddBackward1 object at 0x75b0bc71c748>\n",
      "True\n",
      "<AddBackward1 object at 0x75b0bc71c748>\n",
      "True\n",
      "<AddBackward1 object at 0x75b0bc71c748>\n",
      "True\n",
      "<AddBackward1 object at 0x75b0bc71c748>\n",
      "True\n",
      "<AddBackward1 object at 0x75b0bc71c748>\n",
      "True\n",
      "<AddBackward1 object at 0x75b0bc71c748>\n",
      "True\n",
      "<AddBackward1 object at 0x75b0bc71c748>\n",
      "True\n",
      "<AddBackward1 object at 0x75b0bc71c9e8>\n"
     ]
    }
   ],
   "source": [
    "for estimate in state_value_estimates:\n",
    "    print(estimate.requires_grad)\n",
    "    print(estimate.grad_fn)"
   ]
  },
  {
   "cell_type": "code",
   "execution_count": 24,
   "id": "12975634",
   "metadata": {},
   "outputs": [
    {
     "name": "stdout",
     "output_type": "stream",
     "text": [
      "tensor([-0.3292, -0.1346, -0.0788,  0.0653, -0.0686,  0.0482, -0.0685,\n",
      "        -0.2103, -0.0618, -0.2625])\n"
     ]
    }
   ],
   "source": [
    "print(torch.cat(state_value_estimates).squeeze())"
   ]
  },
  {
   "cell_type": "code",
   "execution_count": 25,
   "id": "2a517099",
   "metadata": {},
   "outputs": [
    {
     "name": "stdout",
     "output_type": "stream",
     "text": [
      "True\n",
      "<AddBackward1 object at 0x75b0bc71c668>\n",
      "True\n",
      "<AddBackward1 object at 0x75b0bc71c668>\n",
      "True\n",
      "<AddBackward1 object at 0x75b0bc71c668>\n",
      "True\n",
      "<AddBackward1 object at 0x75b0bc71c668>\n",
      "True\n",
      "<AddBackward1 object at 0x75b0bc71c470>\n",
      "True\n",
      "<AddBackward1 object at 0x75b0bc71c668>\n",
      "True\n",
      "<AddBackward1 object at 0x75b0bc71c668>\n",
      "True\n",
      "<AddBackward1 object at 0x75b0bc71c668>\n",
      "True\n",
      "<AddBackward1 object at 0x75b0bc71c668>\n",
      "True\n",
      "<AddBackward1 object at 0x75b0bc71c668>\n"
     ]
    }
   ],
   "source": [
    "for estimate in state_value_estimates:\n",
    "    print(estimate.requires_grad)\n",
    "    print(estimate.grad_fn)"
   ]
  },
  {
   "cell_type": "code",
   "execution_count": 26,
   "id": "84f83c1a",
   "metadata": {},
   "outputs": [
    {
     "name": "stdout",
     "output_type": "stream",
     "text": [
      "tensor([ 0.9553,  0.1888,  1.4536,  0.6246,  0.1765,  0.8225,  1.0388,\n",
      "        -0.9084,  0.2685, -0.6452])\n"
     ]
    }
   ],
   "source": [
    "print(torch.tensor(returns, dtype=torch.float32))"
   ]
  },
  {
   "cell_type": "code",
   "execution_count": null,
   "id": "f75e60fc",
   "metadata": {},
   "outputs": [],
   "source": []
  },
  {
   "cell_type": "markdown",
   "id": "7770d91c",
   "metadata": {},
   "source": [
    "# Training A Distributional NN"
   ]
  },
  {
   "cell_type": "code",
   "execution_count": 2,
   "id": "0f9ef8e5",
   "metadata": {},
   "outputs": [],
   "source": [
    "import matplotlib.pyplot as plt\n",
    "\n",
    "def plot_scores(losses_moving_avg):\n",
    "    fig = plt.figure()\n",
    "    ax = fig.add_subplot(111)\n",
    "\n",
    "    plt.plot(np.arange(100, len(losses_moving_avg)+100), losses_moving_avg)\n",
    "    plt.ylabel('Loss')\n",
    "    plt.xlabel('Epoch')"
   ]
  },
  {
   "cell_type": "code",
   "execution_count": 3,
   "id": "1581fb2b",
   "metadata": {},
   "outputs": [],
   "source": [
    "from torch.distributions import Normal\n",
    "import torch.optim as optim\n",
    "\n",
    "class Actor(nn.Module):\n",
    "    def __init__(self, s_size=33, a_size=4, h_size=None):\n",
    "        super(Actor, self).__init__()\n",
    "\n",
    "        if not h_size:\n",
    "            h_size = 256\n",
    "\n",
    "        self.fc1 = nn.Linear(s_size, h_size)\n",
    "        self.fc_means = nn.Linear(h_size, a_size)\n",
    "        self.fc_log_variances = nn.Linear(h_size, a_size)\n",
    "\n",
    "    def forward(self, x):\n",
    "        x = F.relu(self.fc1(x))\n",
    "\n",
    "        self.means = self.fc_means(x)\n",
    "        self.log_variances = self.fc_log_variances(x)\n",
    "\n",
    "        stds = (0.5 * self.log_variances).exp()\n",
    "        dist = Normal(self.means, stds)\n",
    "        actions = dist.rsample()\n",
    "\n",
    "        return actions, dist.log_prob(actions).sum(dim=-1)"
   ]
  },
  {
   "cell_type": "code",
   "execution_count": 6,
   "id": "dbe3a839",
   "metadata": {},
   "outputs": [
    {
     "name": "stdout",
     "output_type": "stream",
     "text": [
      "Episode 20\tVal Loss: 6.39\n",
      "Episode 40\tVal Loss: 3.051\n",
      "Episode 60\tVal Loss: 4.600\n",
      "Episode 80\tVal Loss: 3.03\n",
      "Episode 100\tVal Loss: 5.70\n",
      "Episode 120\tVal Loss: 1.13\n",
      "Episode 140\tVal Loss: 1.76\n",
      "Episode 160\tVal Loss: 3.14\n",
      "Episode 180\tVal Loss: 3.802\n",
      "Episode 200\tVal Loss: 3.050\n",
      "Episode 220\tVal Loss: 1.96\n",
      "Episode 240\tVal Loss: 10.16\n",
      "Episode 260\tVal Loss: 1.529\n",
      "Episode 280\tVal Loss: 4.131\n",
      "Episode 300\tVal Loss: 2.993\n",
      "Episode 320\tVal Loss: 12.70\n",
      "Episode 340\tVal Loss: 3.7944\n",
      "Episode 360\tVal Loss: 2.833\n",
      "Episode 380\tVal Loss: 2.6335\n",
      "Episode 400\tVal Loss: 381.81\n",
      "Episode 420\tVal Loss: 34.9843\n",
      "Episode 440\tVal Loss: 4.2039\n",
      "Episode 460\tVal Loss: 34.305\n",
      "Episode 480\tVal Loss: 44.572\n",
      "Episode 500\tVal Loss: 3.56861\n"
     ]
    },
    {
     "data": {
      "image/png": "[encoded data removed]",
      "text/plain": [
       "<Figure size 432x288 with 1 Axes>"
      ]
     },
     "metadata": {
      "needs_background": "light"
     },
     "output_type": "display_data"
    }
   ],
   "source": [
    "def inspect_weights(model):\n",
    "    for name, param in model.named_parameters():\n",
    "        print(f\"{name}:\\t{np.abs(param.detach().cpu().numpy()).mean():.2f}\")\n",
    "\n",
    "def inspect_grads(model):\n",
    "    for name, param in model.named_parameters():\n",
    "        if param.grad is not None:\n",
    "            print(f\"{name}:\\t{np.abs(param.grad.detach().cpu().numpy()).mean():.2f}\")\n",
    "        else:\n",
    "            print(f\"{name}: No gradient computed\")\n",
    "\n",
    "# Instantiate Everything\n",
    "actor_nn = Actor()\n",
    "optimizer = optim.Adam(actor_nn.parameters(), lr=1e-4)\n",
    "loss_fn = nn.MSELoss()\n",
    "fixed_target_tensor = torch.from_numpy(np.random.randn(1,4)).float()\n",
    "\n",
    "# Run Training Loop\n",
    "losses = []\n",
    "losses_moving_avg = []\n",
    "for episode in range(500):\n",
    "    # Training Loop\n",
    "    actor_nn.train()\n",
    "    \n",
    "    log_probs = []\n",
    "    neg_rewards = []\n",
    "    for t in range(1_000):\n",
    "        input_tensor = np.random.randn(1,33)\n",
    "        actions, dist_log_prob = actor_nn.forward(torch.from_numpy(input_tensor).float())\n",
    "        actions = actions.detach()\n",
    "\n",
    "        neg_reward = ((actions - fixed_target_tensor)**2).mean().item()\n",
    "        neg_rewards.append(neg_reward)\n",
    "\n",
    "        log_probs.append(dist_log_prob)\n",
    "        \n",
    "    neg_rewards = (neg_rewards - np.mean(neg_rewards))/(np.std(neg_rewards))\n",
    "    stack = torch.stack([ log_probs * neg_rewards for log_probs, neg_rewards in zip(log_probs, neg_rewards) ])\n",
    "    loss = stack.mean()\n",
    "    loss.backward()\n",
    "#     if episode >100 and episode%20 == 0:\n",
    "#         print()\n",
    "#         print(f'rewards: {neg_rewards}')\n",
    "#         print()\n",
    "#         print(f'log_probs: {log_probs}')\n",
    "#         print()\n",
    "#         print(f'stack: {stack}')\n",
    "#         print()\n",
    "#         print(f'loss: {loss.item()}')\n",
    "# #         print()\n",
    "# #         inspect_weights(actor_nn)\n",
    "# #         print()\n",
    "# #         inspect_grads(actor_nn)\n",
    "#         print('----------------')\n",
    "#         print()\n",
    "#         print()\n",
    "    optimizer.step()\n",
    "    optimizer.zero_grad()\n",
    "\n",
    "    # Validation Loop\n",
    "    actor_nn.eval()\n",
    "    \n",
    "    input_tensor = np.random.randn(1,33)\n",
    "    actions, _ = actor_nn.forward(torch.from_numpy(input_tensor).float())\n",
    "    \n",
    "    loss = loss_fn(actions, fixed_target_tensor)\n",
    "    losses.append(loss.item())\n",
    "    if episode >= 100:\n",
    "        losses_moving_avg.append(np.mean(losses[episode-100:episode]))\n",
    "    \n",
    "    print(f'\\rEpisode {episode+1}\\tVal Loss: {loss.item():.2f}', end='', flush=True)\n",
    "    if ((episode+1) % 20 == 0):\n",
    "        print(f'\\rEpisode {episode+1}\\tVal Loss: {loss.item():.2f}')\n",
    "        \n",
    "plot_scores(losses_moving_avg)"
   ]
  },
  {
   "cell_type": "code",
   "execution_count": 7,
   "id": "a5a02efd",
   "metadata": {},
   "outputs": [
    {
     "name": "stdout",
     "output_type": "stream",
     "text": [
      "Episode 100\tVal Loss: 1.84\n",
      "Episode 200\tVal Loss: 0.98\n",
      "Episode 300\tVal Loss: 0.32\n",
      "Episode 400\tVal Loss: 1.00\n",
      "Episode 500\tVal Loss: 0.12\n",
      "Episode 600\tVal Loss: 1.40\n",
      "Episode 700\tVal Loss: 0.52\n",
      "Episode 800\tVal Loss: 0.29\n",
      "Episode 900\tVal Loss: 0.19\n",
      "Episode 1000\tVal Loss: 0.16\n"
     ]
    },
    {
     "data": {
      "image/png": "[encoded data removed]",
      "text/plain": [
       "<Figure size 432x288 with 1 Axes>"
      ]
     },
     "metadata": {
      "needs_background": "light"
     },
     "output_type": "display_data"
    }
   ],
   "source": [
    "def inspect_weights(model):\n",
    "    for name, param in model.named_parameters():\n",
    "        print(f\"{name}:\\t{np.abs(param.detach().cpu().numpy()).mean():.2f}\")\n",
    "\n",
    "def inspect_grads(model):\n",
    "    for name, param in model.named_parameters():\n",
    "        if param.grad is not None:\n",
    "            print(f\"{name}:\\t{np.abs(param.grad.detach().cpu().numpy()).mean():.2f}\")\n",
    "        else:\n",
    "            print(f\"{name}: No gradient computed\")\n",
    "\n",
    "# Instantiate Everything\n",
    "actor_nn = Actor()\n",
    "optimizer = optim.Adam(actor_nn.parameters(), lr=1e-4)\n",
    "loss_fn = nn.MSELoss()\n",
    "fixed_target_tensor = torch.from_numpy(np.random.randn(1,4)).float()\n",
    "\n",
    "# Run Training Loop\n",
    "losses = []\n",
    "losses_moving_avg = []\n",
    "for episode in range(1_000):\n",
    "    actor_nn.train()\n",
    "    \n",
    "    input_tensor = np.random.randn(1,33)\n",
    "    actions, _ = actor_nn.forward(torch.from_numpy(input_tensor).float())\n",
    "    \n",
    "    loss = loss_fn(actions, fixed_target_tensor)\n",
    "    losses.append(loss.item())\n",
    "    loss.backward()\n",
    "    optimizer.step()\n",
    "    optimizer.zero_grad()\n",
    "    \n",
    "    if episode >= 100:\n",
    "        losses_moving_avg.append(np.mean(losses[episode-100:episode]))\n",
    "    \n",
    "    print(f'\\rEpisode {episode+1}\\tVal Loss: {loss.item():.2f}', end='', flush=True)\n",
    "    if ((episode+1) % 100 == 0):\n",
    "        print(f'\\rEpisode {episode+1}\\tVal Loss: {loss.item():.2f}')\n",
    "        \n",
    "plot_scores(losses_moving_avg)"
   ]
  },
  {
   "cell_type": "code",
   "execution_count": null,
   "id": "a7dc79c9",
   "metadata": {},
   "outputs": [],
   "source": []
  },
  {
   "cell_type": "code",
   "execution_count": null,
   "id": "56116bda",
   "metadata": {},
   "outputs": [],
   "source": []
  },
  {
   "cell_type": "code",
   "execution_count": null,
   "id": "7bd03911",
   "metadata": {},
   "outputs": [],
   "source": []
  },
  {
   "cell_type": "code",
   "execution_count": null,
   "id": "099a5a4f",
   "metadata": {},
   "outputs": [],
   "source": []
  },
  {
   "cell_type": "code",
   "execution_count": null,
   "id": "dae124c4",
   "metadata": {},
   "outputs": [],
   "source": []
  },
  {
   "cell_type": "markdown",
   "id": "789188fa",
   "metadata": {},
   "source": [
    "# Test the Loss Fn"
   ]
  },
  {
   "cell_type": "code",
   "execution_count": null,
   "id": "c1cc7977",
   "metadata": {},
   "outputs": [],
   "source": [
    "env = UnityEnvironment(file_name='./Reacher_Linux/Reacher.x86_64', no_graphics=True),\n",
    "agent = Agent(state_size=33, action_size=4, seed=0),"
   ]
  },
  {
   "cell_type": "code",
   "execution_count": null,
   "id": "97e96a57",
   "metadata": {},
   "outputs": [],
   "source": [
    "brain_name = env.brain_names[0]\n",
    "\n",
    "for t in range(max_t):\n",
    "    action = agent.act(state)\n",
    "\n",
    "    env_info = env.step(action)[brain_name]\n",
    "    next_state, reward, done = env_info.vector_observations[0], env_info.rewards[0], env_info.local_done[0]\n",
    "    agent.rewards.append(reward)\n",
    "\n",
    "    state = next_state\n",
    "    score += reward\n",
    "\n",
    "    if done:\n",
    "        break"
   ]
  },
  {
   "cell_type": "code",
   "execution_count": null,
   "id": "c1955d02",
   "metadata": {},
   "outputs": [],
   "source": []
  },
  {
   "cell_type": "code",
   "execution_count": null,
   "id": "7d2a7e80",
   "metadata": {},
   "outputs": [],
   "source": []
  },
  {
   "cell_type": "code",
   "execution_count": null,
   "id": "1b55ad0f",
   "metadata": {},
   "outputs": [],
   "source": []
  },
  {
   "cell_type": "markdown",
   "id": "6605fa9a",
   "metadata": {},
   "source": [
    "# Normalizing Rewards"
   ]
  },
  {
   "cell_type": "code",
   "execution_count": 93,
   "id": "cb42c98c",
   "metadata": {},
   "outputs": [
    {
     "name": "stdout",
     "output_type": "stream",
     "text": [
      "0.05000000000000001\n",
      "0.05\n",
      "[[ 0.99980004 -0.99980004 -0.99980004 -0.99980004  0.99980004]\n",
      " [-0.99980004 -0.99980004  0.99980004  0.99980004  0.99980004]]\n"
     ]
    }
   ],
   "source": [
    "rewards = np.array([[0.1, 0, 0, 0, 0.1], [0, 0, 0.1, 0.1, 0.1]])\n",
    "print(rewards.std())\n",
    "print(rewards.mean())\n",
    "print((rewards - rewards.mean()) / (rewards.std() + 1e-5) )\n",
    "# print((np.array(rewards) - 0.05)*2.0)"
   ]
  },
  {
   "cell_type": "markdown",
   "id": "98a8dc1f",
   "metadata": {},
   "source": [
    "# Scores Printing"
   ]
  },
  {
   "cell_type": "code",
   "execution_count": 72,
   "id": "ececbc34",
   "metadata": {},
   "outputs": [
    {
     "name": "stdout",
     "output_type": "stream",
     "text": [
      "Checkpoint: 5/20\n",
      "Checkpoint: 10/20\n",
      "Checkpoint: 15/20\n",
      "Checkpoint: 20/20\n",
      "\n"
     ]
    }
   ],
   "source": [
    "import time\n",
    "\n",
    "for i in range(1, 21):\n",
    "    if i % 5 == 0:\n",
    "        print(f\"\\rCheckpoint: {i}/20\")  # Permanent line with newline\n",
    "    else:\n",
    "        print(f\"\\rProgress: {i}/20\", end=\"\", flush=True)  # Overwrite line\n",
    "    time.sleep(0.2)\n",
    "print()"
   ]
  },
  {
   "cell_type": "markdown",
   "id": "829673f2",
   "metadata": {},
   "source": [
    "# Calculating Returns"
   ]
  },
  {
   "cell_type": "code",
   "execution_count": 76,
   "id": "105393de",
   "metadata": {},
   "outputs": [],
   "source": [
    "def calculate_returns(GAMMA, rewards):\n",
    "    discounts = np.array([GAMMA**i for i in range(len(rewards))] + [0.0])\n",
    "    \n",
    "    intermediate = (rewards[:,1-1:]*discounts[:-1]).sum(-1)\n",
    "    print(intermediate)\n",
    "    \n",
    "    returns = np.array([\n",
    "        (rewards[:,i-1:]*discounts[:-i]).sum(-1)\n",
    "        for i in range(1, len(rewards)+1)\n",
    "    ]).transpose()\n",
    "    \n",
    "    return returns"
   ]
  },
  {
   "cell_type": "code",
   "execution_count": 77,
   "id": "3a6b3d47",
   "metadata": {},
   "outputs": [
    {
     "name": "stdout",
     "output_type": "stream",
     "text": [
      "(5, 5)\n",
      "[[0.2 0.3 0.4]\n",
      " [0.2 0.3 0.4]\n",
      " [0.2 0.3 0.4]\n",
      " [0.2 0.3 0.4]\n",
      " [0.2 0.3 0.4]]\n",
      "[0.9703481 0.9703481 0.9703481 0.9703481 0.9703481]\n",
      "Calculated: [[0.9703481 0.9801496 0.88904   0.696     0.4      ]\n",
      " [0.9703481 0.9801496 0.88904   0.696     0.4      ]\n",
      " [0.9703481 0.9801496 0.88904   0.696     0.4      ]\n",
      " [0.9703481 0.9801496 0.88904   0.696     0.4      ]\n",
      " [0.9703481 0.9801496 0.88904   0.696     0.4      ]]\n",
      "Expected: [0.9703481 0.9801496 0.88904   0.696     0.4      ]\n"
     ]
    }
   ],
   "source": [
    "GAMMA = 0.99\n",
    "rewards = np.array([[0.0, 0.1, 0.2, 0.3, 0.4]]*5)\n",
    "print(rewards.shape)\n",
    "print(rewards[:,2:])\n",
    "print(f'Calculated: {calculate_returns(GAMMA, rewards)}')\n",
    "\n",
    "print(f'Expected: {np.array([0.9703481039999999, 0.9801496000000001, 0.88904, 0.696, 0.4])}')    "
   ]
  },
  {
   "cell_type": "code",
   "execution_count": 62,
   "id": "b0120acd",
   "metadata": {},
   "outputs": [
    {
     "data": {
      "text/plain": [
       "[0.9703481039999999, 0.9801496000000001, 0.88904, 0.696, 0.4]"
      ]
     },
     "execution_count": 62,
     "metadata": {},
     "output_type": "execute_result"
    }
   ],
   "source": [
    "returns"
   ]
  },
  {
   "cell_type": "code",
   "execution_count": 64,
   "id": "4cfde842",
   "metadata": {},
   "outputs": [
    {
     "data": {
      "text/plain": [
       "0.9703481039999999"
      ]
     },
     "execution_count": 64,
     "metadata": {},
     "output_type": "execute_result"
    }
   ],
   "source": [
    "1.0*0.0 + 0.99*0.1 + 0.9801*0.2 + 0.970299*0.3 + 0.96059601*0.4"
   ]
  },
  {
   "cell_type": "code",
   "execution_count": 65,
   "id": "56133ad8",
   "metadata": {},
   "outputs": [
    {
     "data": {
      "text/plain": [
       "0.9801496000000001"
      ]
     },
     "execution_count": 65,
     "metadata": {},
     "output_type": "execute_result"
    }
   ],
   "source": [
    "1.0*0.1 + 0.99*0.2 + 0.9801*0.3 + 0.970299*0.4"
   ]
  },
  {
   "cell_type": "code",
   "execution_count": 66,
   "id": "2852d167",
   "metadata": {},
   "outputs": [
    {
     "data": {
      "text/plain": [
       "0.88904"
      ]
     },
     "execution_count": 66,
     "metadata": {},
     "output_type": "execute_result"
    }
   ],
   "source": [
    "1.0*0.2 + 0.99*0.3 + 0.9801*0.4"
   ]
  },
  {
   "cell_type": "code",
   "execution_count": 67,
   "id": "363a4920",
   "metadata": {},
   "outputs": [
    {
     "data": {
      "text/plain": [
       "0.696"
      ]
     },
     "execution_count": 67,
     "metadata": {},
     "output_type": "execute_result"
    }
   ],
   "source": [
    "1.0*0.3 + 0.99*0.4"
   ]
  },
  {
   "cell_type": "code",
   "execution_count": 68,
   "id": "9f6b40ab",
   "metadata": {},
   "outputs": [
    {
     "data": {
      "text/plain": [
       "0.4"
      ]
     },
     "execution_count": 68,
     "metadata": {},
     "output_type": "execute_result"
    }
   ],
   "source": [
    "1.0*0.4"
   ]
  },
  {
   "cell_type": "markdown",
   "id": "98aac47c",
   "metadata": {},
   "source": [
    "# Point-wise mult of torch.Tensor and np.array"
   ]
  },
  {
   "cell_type": "code",
   "execution_count": 193,
   "id": "dbb66599",
   "metadata": {},
   "outputs": [
    {
     "name": "stdout",
     "output_type": "stream",
     "text": [
      "[1.         0.99       0.9801     0.970299   0.96059601]\n"
     ]
    }
   ],
   "source": [
    "t = [torch.Tensor([e]) for e in [0.0, 0.1, 0.2, 0.3, 0.4]]\n",
    "t = torch.stack(t)\n",
    "n = np.array([0.99**i for i in range(len(t))])\n",
    "print(n)"
   ]
  },
  {
   "cell_type": "code",
   "execution_count": 194,
   "id": "7494bd62",
   "metadata": {},
   "outputs": [
    {
     "name": "stdout",
     "output_type": "stream",
     "text": [
      "tensor(4.9010)\n"
     ]
    }
   ],
   "source": [
    "print((t*torch.Tensor(n)).sum())"
   ]
  },
  {
   "cell_type": "code",
   "execution_count": null,
   "id": "984109b0",
   "metadata": {},
   "outputs": [],
   "source": []
  },
  {
   "cell_type": "code",
   "execution_count": null,
   "id": "73bf5dae",
   "metadata": {},
   "outputs": [],
   "source": []
  }
 ],
 "metadata": {
  "kernelspec": {
   "display_name": "drlnd",
   "language": "python",
   "name": "drlnd"
  },
  "language_info": {
   "codemirror_mode": {
    "name": "ipython",
    "version": 3
   },
   "file_extension": ".py",
   "mimetype": "text/x-python",
   "name": "python",
   "nbconvert_exporter": "python",
   "pygments_lexer": "ipython3",
   "version": "3.6.13"
  }
 },
 "nbformat": 4,
 "nbformat_minor": 5
}
