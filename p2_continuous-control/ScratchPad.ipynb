{
 "cells": [
  {
   "cell_type": "code",
   "execution_count": 1,
   "id": "d8ee393d",
   "metadata": {},
   "outputs": [],
   "source": [
    "import numpy as np\n",
    "\n",
    "import torch\n",
    "import torch.nn as nn\n",
    "import torch.nn.functional as F"
   ]
  },
  {
   "cell_type": "markdown",
   "id": "4279e482",
   "metadata": {},
   "source": [
    "# Normalizing Rewards"
   ]
  },
  {
   "cell_type": "code",
   "execution_count": 93,
   "id": "16f282c8",
   "metadata": {},
   "outputs": [
    {
     "name": "stdout",
     "output_type": "stream",
     "text": [
      "0.05000000000000001\n",
      "0.05\n",
      "[[ 0.99980004 -0.99980004 -0.99980004 -0.99980004  0.99980004]\n",
      " [-0.99980004 -0.99980004  0.99980004  0.99980004  0.99980004]]\n"
     ]
    }
   ],
   "source": [
    "rewards = np.array([[0.1, 0, 0, 0, 0.1], [0, 0, 0.1, 0.1, 0.1]])\n",
    "print(rewards.std())\n",
    "print(rewards.mean())\n",
    "print((rewards - rewards.mean()) / (rewards.std() + 1e-5) )\n",
    "# print((np.array(rewards) - 0.05)*2.0)"
   ]
  },
  {
   "cell_type": "markdown",
   "id": "47ec225b",
   "metadata": {},
   "source": [
    "# Scores Printing"
   ]
  },
  {
   "cell_type": "code",
   "execution_count": 72,
   "id": "ca676e11",
   "metadata": {},
   "outputs": [
    {
     "name": "stdout",
     "output_type": "stream",
     "text": [
      "Checkpoint: 5/20\n",
      "Checkpoint: 10/20\n",
      "Checkpoint: 15/20\n",
      "Checkpoint: 20/20\n",
      "\n"
     ]
    }
   ],
   "source": [
    "import time\n",
    "\n",
    "for i in range(1, 21):\n",
    "    if i % 5 == 0:\n",
    "        print(f\"\\rCheckpoint: {i}/20\")  # Permanent line with newline\n",
    "    else:\n",
    "        print(f\"\\rProgress: {i}/20\", end=\"\", flush=True)  # Overwrite line\n",
    "    time.sleep(0.2)\n",
    "print()"
   ]
  },
  {
   "cell_type": "markdown",
   "id": "d9e357d1",
   "metadata": {},
   "source": [
    "# Calculating Returns"
   ]
  },
  {
   "cell_type": "code",
   "execution_count": 56,
   "id": "28a37081",
   "metadata": {},
   "outputs": [],
   "source": [
    "GAMMA = 0.99"
   ]
  },
  {
   "cell_type": "code",
   "execution_count": 60,
   "id": "50690a32",
   "metadata": {},
   "outputs": [
    {
     "name": "stdout",
     "output_type": "stream",
     "text": [
      "[1.0, 0.99, 0.9801, 0.970299, 0.96059601]\n"
     ]
    }
   ],
   "source": [
    "rewards = [0.0, 0.1, 0.2, 0.3, 0.4]\n",
    "discounts = [GAMMA**i for i in range(len(rewards))]\n",
    "print(discounts)"
   ]
  },
  {
   "cell_type": "code",
   "execution_count": 61,
   "id": "c0478220",
   "metadata": {},
   "outputs": [],
   "source": [
    "returns = [0.0]*len(rewards)\n",
    "\n",
    "returns[0] = (np.array(rewards)*np.array(discounts)).sum()\n",
    "returns[1:] = [\n",
    "    sum([a*b for a,b in zip(rewards[i:],discounts[:-i])])\n",
    "    for i in range(1,len(rewards))\n",
    "]"
   ]
  },
  {
   "cell_type": "code",
   "execution_count": 62,
   "id": "3d02f70d",
   "metadata": {},
   "outputs": [
    {
     "data": {
      "text/plain": [
       "[0.9703481039999999, 0.9801496000000001, 0.88904, 0.696, 0.4]"
      ]
     },
     "execution_count": 62,
     "metadata": {},
     "output_type": "execute_result"
    }
   ],
   "source": [
    "returns"
   ]
  },
  {
   "cell_type": "code",
   "execution_count": 64,
   "id": "660cdc1a",
   "metadata": {},
   "outputs": [
    {
     "data": {
      "text/plain": [
       "0.9703481039999999"
      ]
     },
     "execution_count": 64,
     "metadata": {},
     "output_type": "execute_result"
    }
   ],
   "source": [
    "1.0*0.0 + 0.99*0.1 + 0.9801*0.2 + 0.970299*0.3 + 0.96059601*0.4"
   ]
  },
  {
   "cell_type": "code",
   "execution_count": 65,
   "id": "353a4312",
   "metadata": {},
   "outputs": [
    {
     "data": {
      "text/plain": [
       "0.9801496000000001"
      ]
     },
     "execution_count": 65,
     "metadata": {},
     "output_type": "execute_result"
    }
   ],
   "source": [
    "1.0*0.1 + 0.99*0.2 + 0.9801*0.3 + 0.970299*0.4"
   ]
  },
  {
   "cell_type": "code",
   "execution_count": 66,
   "id": "be00f2fa",
   "metadata": {},
   "outputs": [
    {
     "data": {
      "text/plain": [
       "0.88904"
      ]
     },
     "execution_count": 66,
     "metadata": {},
     "output_type": "execute_result"
    }
   ],
   "source": [
    "1.0*0.2 + 0.99*0.3 + 0.9801*0.4"
   ]
  },
  {
   "cell_type": "code",
   "execution_count": 67,
   "id": "363a4920",
   "metadata": {},
   "outputs": [
    {
     "data": {
      "text/plain": [
       "0.696"
      ]
     },
     "execution_count": 67,
     "metadata": {},
     "output_type": "execute_result"
    }
   ],
   "source": [
    "1.0*0.3 + 0.99*0.4"
   ]
  },
  {
   "cell_type": "code",
   "execution_count": 68,
   "id": "9f6b40ab",
   "metadata": {},
   "outputs": [
    {
     "data": {
      "text/plain": [
       "0.4"
      ]
     },
     "execution_count": 68,
     "metadata": {},
     "output_type": "execute_result"
    }
   ],
   "source": [
    "1.0*0.4"
   ]
  },
  {
   "cell_type": "code",
   "execution_count": null,
   "id": "0f31f299",
   "metadata": {},
   "outputs": [],
   "source": []
  },
  {
   "cell_type": "code",
   "execution_count": null,
   "id": "ace896e3",
   "metadata": {},
   "outputs": [],
   "source": []
  },
  {
   "cell_type": "code",
   "execution_count": null,
   "id": "d772a002",
   "metadata": {},
   "outputs": [],
   "source": []
  },
  {
   "cell_type": "code",
   "execution_count": null,
   "id": "fed5dfc8",
   "metadata": {},
   "outputs": [],
   "source": []
  },
  {
   "cell_type": "code",
   "execution_count": null,
   "id": "db5e9a80",
   "metadata": {},
   "outputs": [],
   "source": []
  }
 ],
 "metadata": {
  "kernelspec": {
   "display_name": "drlnd",
   "language": "python",
   "name": "drlnd"
  },
  "language_info": {
   "codemirror_mode": {
    "name": "ipython",
    "version": 3
   },
   "file_extension": ".py",
   "mimetype": "text/x-python",
   "name": "python",
   "nbconvert_exporter": "python",
   "pygments_lexer": "ipython3",
   "version": "3.6.13"
  }
 },
 "nbformat": 4,
 "nbformat_minor": 5
}
