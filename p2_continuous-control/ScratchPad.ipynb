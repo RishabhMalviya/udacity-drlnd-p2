{
 "cells": [
  {
   "cell_type": "code",
   "execution_count": 3,
   "id": "d8ee393d",
   "metadata": {},
   "outputs": [],
   "source": [
    "import numpy as np\n",
    "\n",
    "import torch\n",
    "import torch.nn as nn\n",
    "import torch.nn.functional as F"
   ]
  },
  {
   "cell_type": "markdown",
   "id": "84c1e1cb",
   "metadata": {},
   "source": [
    "# Training A Distributional NN"
   ]
  },
  {
   "cell_type": "code",
   "execution_count": 4,
   "id": "e56a915b",
   "metadata": {},
   "outputs": [],
   "source": [
    "from torch.distributions import Normal\n",
    "import torch.optim as optim"
   ]
  },
  {
   "cell_type": "code",
   "execution_count": 5,
   "id": "7c603c4f",
   "metadata": {},
   "outputs": [],
   "source": [
    "class Actor(nn.Module):\n",
    "    def __init__(self, s_size=33, a_size=4, h_size=None):\n",
    "        super(Actor, self).__init__()\n",
    "\n",
    "        if not h_size:\n",
    "            h_size = 256\n",
    "\n",
    "        self.fc1 = nn.Linear(s_size, h_size)\n",
    "        self.fc_means = nn.Linear(h_size, a_size)\n",
    "        self.fc_log_variances = nn.Linear(h_size, a_size)\n",
    "\n",
    "    def forward(self, x):\n",
    "        x = F.relu(self.fc1(x))\n",
    "\n",
    "        means = F.tanh(self.fc_means(x))\n",
    "        log_variances = F.relu(self.fc_log_variances(x))\n",
    "\n",
    "        stds = (0.5 * log_variances).exp()\n",
    "        dist = Normal(means, stds)\n",
    "        actions = dist.rsample()\n",
    "\n",
    "        return actions, dist.log_prob(actions).sum(dim=-1)"
   ]
  },
  {
   "cell_type": "code",
   "execution_count": 7,
   "id": "563ab1a1",
   "metadata": {},
   "outputs": [],
   "source": [
    "actor_nn = Actor()\n",
    "optimizer = optim.Adam(actor_nn.parameters(), lr=1e-3)"
   ]
  },
  {
   "cell_type": "code",
   "execution_count": 28,
   "id": "f0a9b96d",
   "metadata": {},
   "outputs": [
    {
     "name": "stdout",
     "output_type": "stream",
     "text": [
      "torch.Size([1, 33])\n"
     ]
    }
   ],
   "source": [
    "n = np.random.randn(1,33)\n",
    "print(torch.from_numpy(n).float().shape)"
   ]
  },
  {
   "cell_type": "code",
   "execution_count": null,
   "id": "ecb83fa4",
   "metadata": {},
   "outputs": [],
   "source": [
    "output = actor_nn.forwards(torch.from_numpy(np.randn(1,33)))"
   ]
  },
  {
   "cell_type": "code",
   "execution_count": null,
   "id": "ee1cd7ba",
   "metadata": {},
   "outputs": [],
   "source": []
  },
  {
   "cell_type": "code",
   "execution_count": null,
   "id": "b2b21690",
   "metadata": {},
   "outputs": [],
   "source": []
  },
  {
   "cell_type": "code",
   "execution_count": null,
   "id": "4c706b8f",
   "metadata": {},
   "outputs": [],
   "source": []
  },
  {
   "cell_type": "code",
   "execution_count": null,
   "id": "7711e5f6",
   "metadata": {},
   "outputs": [],
   "source": []
  },
  {
   "cell_type": "code",
   "execution_count": null,
   "id": "164fd8f5",
   "metadata": {},
   "outputs": [],
   "source": []
  },
  {
   "cell_type": "code",
   "execution_count": null,
   "id": "5c6f5ddb",
   "metadata": {},
   "outputs": [],
   "source": []
  },
  {
   "cell_type": "markdown",
   "id": "6605fa9a",
   "metadata": {},
   "source": [
    "# Normalizing Rewards"
   ]
  },
  {
   "cell_type": "code",
   "execution_count": 93,
   "id": "cb42c98c",
   "metadata": {},
   "outputs": [
    {
     "name": "stdout",
     "output_type": "stream",
     "text": [
      "0.05000000000000001\n",
      "0.05\n",
      "[[ 0.99980004 -0.99980004 -0.99980004 -0.99980004  0.99980004]\n",
      " [-0.99980004 -0.99980004  0.99980004  0.99980004  0.99980004]]\n"
     ]
    }
   ],
   "source": [
    "rewards = np.array([[0.1, 0, 0, 0, 0.1], [0, 0, 0.1, 0.1, 0.1]])\n",
    "print(rewards.std())\n",
    "print(rewards.mean())\n",
    "print((rewards - rewards.mean()) / (rewards.std() + 1e-5) )\n",
    "# print((np.array(rewards) - 0.05)*2.0)"
   ]
  },
  {
   "cell_type": "markdown",
   "id": "98a8dc1f",
   "metadata": {},
   "source": [
    "# Scores Printing"
   ]
  },
  {
   "cell_type": "code",
   "execution_count": 72,
   "id": "ececbc34",
   "metadata": {},
   "outputs": [
    {
     "name": "stdout",
     "output_type": "stream",
     "text": [
      "Checkpoint: 5/20\n",
      "Checkpoint: 10/20\n",
      "Checkpoint: 15/20\n",
      "Checkpoint: 20/20\n",
      "\n"
     ]
    }
   ],
   "source": [
    "import time\n",
    "\n",
    "for i in range(1, 21):\n",
    "    if i % 5 == 0:\n",
    "        print(f\"\\rCheckpoint: {i}/20\")  # Permanent line with newline\n",
    "    else:\n",
    "        print(f\"\\rProgress: {i}/20\", end=\"\", flush=True)  # Overwrite line\n",
    "    time.sleep(0.2)\n",
    "print()"
   ]
  },
  {
   "cell_type": "markdown",
   "id": "829673f2",
   "metadata": {},
   "source": [
    "# Calculating Returns"
   ]
  },
  {
   "cell_type": "code",
   "execution_count": 182,
   "id": "105393de",
   "metadata": {},
   "outputs": [],
   "source": [
    "def calculate_returns(GAMMA, rewards):\n",
    "    discounts = np.array([GAMMA**i for i in range(len(rewards))] + [0.0])\n",
    "    \n",
    "    returns = np.array([\n",
    "        sum(rewards[i-1:]*discounts[:-i])\n",
    "        for i in range(1, len(rewards)+1)\n",
    "    ])\n",
    "    \n",
    "    return returns"
   ]
  },
  {
   "cell_type": "code",
   "execution_count": 183,
   "id": "3a6b3d47",
   "metadata": {},
   "outputs": [
    {
     "name": "stdout",
     "output_type": "stream",
     "text": [
      "Calculated: [0.72529835 0.78312965 0.740535   0.5965     0.35      ]\n",
      "Expected: [0.9703481 0.9801496 0.88904   0.696     0.4      ]\n"
     ]
    }
   ],
   "source": [
    "GAMMA = 0.99\n",
    "rewards = np.array([0.0, 0.1, 0.2, 0.3, 0.4])    \n",
    "print(f'Calculated: {calculate_returns(GAMMA, rewards)}')\n",
    "\n",
    "print(f'Expected: {np.array([0.9703481039999999, 0.9801496000000001, 0.88904, 0.696, 0.4])}')    "
   ]
  },
  {
   "cell_type": "code",
   "execution_count": 62,
   "id": "b0120acd",
   "metadata": {},
   "outputs": [
    {
     "data": {
      "text/plain": [
       "[0.9703481039999999, 0.9801496000000001, 0.88904, 0.696, 0.4]"
      ]
     },
     "execution_count": 62,
     "metadata": {},
     "output_type": "execute_result"
    }
   ],
   "source": [
    "returns"
   ]
  },
  {
   "cell_type": "code",
   "execution_count": 64,
   "id": "4cfde842",
   "metadata": {},
   "outputs": [
    {
     "data": {
      "text/plain": [
       "0.9703481039999999"
      ]
     },
     "execution_count": 64,
     "metadata": {},
     "output_type": "execute_result"
    }
   ],
   "source": [
    "1.0*0.0 + 0.99*0.1 + 0.9801*0.2 + 0.970299*0.3 + 0.96059601*0.4"
   ]
  },
  {
   "cell_type": "code",
   "execution_count": 65,
   "id": "56133ad8",
   "metadata": {},
   "outputs": [
    {
     "data": {
      "text/plain": [
       "0.9801496000000001"
      ]
     },
     "execution_count": 65,
     "metadata": {},
     "output_type": "execute_result"
    }
   ],
   "source": [
    "1.0*0.1 + 0.99*0.2 + 0.9801*0.3 + 0.970299*0.4"
   ]
  },
  {
   "cell_type": "code",
   "execution_count": 66,
   "id": "2852d167",
   "metadata": {},
   "outputs": [
    {
     "data": {
      "text/plain": [
       "0.88904"
      ]
     },
     "execution_count": 66,
     "metadata": {},
     "output_type": "execute_result"
    }
   ],
   "source": [
    "1.0*0.2 + 0.99*0.3 + 0.9801*0.4"
   ]
  },
  {
   "cell_type": "code",
   "execution_count": 67,
   "id": "363a4920",
   "metadata": {},
   "outputs": [
    {
     "data": {
      "text/plain": [
       "0.696"
      ]
     },
     "execution_count": 67,
     "metadata": {},
     "output_type": "execute_result"
    }
   ],
   "source": [
    "1.0*0.3 + 0.99*0.4"
   ]
  },
  {
   "cell_type": "code",
   "execution_count": 68,
   "id": "9f6b40ab",
   "metadata": {},
   "outputs": [
    {
     "data": {
      "text/plain": [
       "0.4"
      ]
     },
     "execution_count": 68,
     "metadata": {},
     "output_type": "execute_result"
    }
   ],
   "source": [
    "1.0*0.4"
   ]
  },
  {
   "cell_type": "markdown",
   "id": "98aac47c",
   "metadata": {},
   "source": [
    "# Point-wise mult of torch.Tensor and np.array"
   ]
  },
  {
   "cell_type": "code",
   "execution_count": 193,
   "id": "dbb66599",
   "metadata": {},
   "outputs": [
    {
     "name": "stdout",
     "output_type": "stream",
     "text": [
      "[1.         0.99       0.9801     0.970299   0.96059601]\n"
     ]
    }
   ],
   "source": [
    "t = [torch.Tensor([e]) for e in [0.0, 0.1, 0.2, 0.3, 0.4]]\n",
    "t = torch.stack(t)\n",
    "n = np.array([0.99**i for i in range(len(t))])\n",
    "print(n)"
   ]
  },
  {
   "cell_type": "code",
   "execution_count": 194,
   "id": "7494bd62",
   "metadata": {},
   "outputs": [
    {
     "name": "stdout",
     "output_type": "stream",
     "text": [
      "tensor(4.9010)\n"
     ]
    }
   ],
   "source": [
    "print((t*torch.Tensor(n)).sum())"
   ]
  },
  {
   "cell_type": "code",
   "execution_count": null,
   "id": "984109b0",
   "metadata": {},
   "outputs": [],
   "source": []
  },
  {
   "cell_type": "code",
   "execution_count": null,
   "id": "73bf5dae",
   "metadata": {},
   "outputs": [],
   "source": []
  }
 ],
 "metadata": {
  "kernelspec": {
   "display_name": "drlnd",
   "language": "python",
   "name": "drlnd"
  },
  "language_info": {
   "codemirror_mode": {
    "name": "ipython",
    "version": 3
   },
   "file_extension": ".py",
   "mimetype": "text/x-python",
   "name": "python",
   "nbconvert_exporter": "python",
   "pygments_lexer": "ipython3",
   "version": "3.6.13"
  }
 },
 "nbformat": 4,
 "nbformat_minor": 5
}
