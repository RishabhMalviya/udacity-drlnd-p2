{
 "cells": [
  {
   "cell_type": "code",
   "execution_count": 1,
   "id": "0d8976fd",
   "metadata": {},
   "outputs": [],
   "source": [
    "from utils import ScoreKeeper\n",
    "from agent import Agent\n",
    "from main import train_agent, plot_scores, watch_agent"
   ]
  },
  {
   "cell_type": "markdown",
   "id": "ad8c74c2",
   "metadata": {},
   "source": [
    "# Train DDPG Agent"
   ]
  },
  {
   "cell_type": "code",
   "execution_count": 2,
   "id": "4b8a6e19",
   "metadata": {},
   "outputs": [
    {
     "name": "stderr",
     "output_type": "stream",
     "text": [
      "INFO:unityagents:\n",
      "'Academy' started successfully!\n",
      "Unity Academy name: Academy\n",
      "        Number of Brains: 1\n",
      "        Number of External Brains : 1\n",
      "        Lesson number : 0\n",
      "        Reset Parameters :\n",
      "\t\tgoal_speed -> 1.0\n",
      "\t\tgoal_size -> 5.0\n",
      "Unity brain name: ReacherBrain\n",
      "        Number of Visual Observations (per agent): 0\n",
      "        Vector Observation space type: continuous\n",
      "        Vector Observation space size (per agent): 33\n",
      "        Number of stacked Vector Observation: 1\n",
      "        Vector Action space type: continuous\n",
      "        Vector Action space size (per agent): 4\n",
      "        Vector Action descriptions: , , , \n"
     ]
    },
    {
     "name": "stdout",
     "output_type": "stream",
     "text": [
      "Episode 50\t Score: 0.01"
     ]
    }
   ],
   "source": [
    "solved, scores = train_agent(\n",
    "    max_t=1000,\n",
    "    n_episodes=50,\n",
    "    checkpoint_every=100\n",
    ")"
   ]
  },
  {
   "cell_type": "markdown",
   "id": "8a88ef4b",
   "metadata": {},
   "source": [
    "## Plot Scores"
   ]
  },
  {
   "cell_type": "code",
   "execution_count": 3,
   "id": "999d70b3",
   "metadata": {},
   "outputs": [
    {
     "data": {
      "image/png": "[encoded data removed]",
      "text/plain": [
       "<Figure size 432x288 with 1 Axes>"
      ]
     },
     "metadata": {
      "needs_background": "light"
     },
     "output_type": "display_data"
    }
   ],
   "source": [
    "plot_scores(scores)"
   ]
  },
  {
   "cell_type": "markdown",
   "id": "fac48f03",
   "metadata": {},
   "source": [
    "# Watch Trained Agent"
   ]
  },
  {
   "cell_type": "code",
   "execution_count": 4,
   "id": "4d9098dc",
   "metadata": {},
   "outputs": [],
   "source": [
    "if solved:\n",
    "    watch_agent(\n",
    "        max_t=1000,\n",
    "        n_episodes=5\n",
    "    )"
   ]
  },
  {
   "cell_type": "code",
   "execution_count": null,
   "id": "7164c37c",
   "metadata": {},
   "outputs": [],
   "source": []
  },
  {
   "cell_type": "code",
   "execution_count": null,
   "id": "cadc6486",
   "metadata": {},
   "outputs": [],
   "source": []
  },
  {
   "cell_type": "code",
   "execution_count": null,
   "id": "99359a6a",
   "metadata": {},
   "outputs": [],
   "source": []
  }
 ],
 "metadata": {
  "kernelspec": {
   "display_name": "drlnd",
   "language": "python",
   "name": "drlnd"
  },
  "language_info": {
   "codemirror_mode": {
    "name": "ipython",
    "version": 3
   },
   "file_extension": ".py",
   "mimetype": "text/x-python",
   "name": "python",
   "nbconvert_exporter": "python",
   "pygments_lexer": "ipython3",
   "version": "3.6.13"
  }
 },
 "nbformat": 4,
 "nbformat_minor": 5
}
